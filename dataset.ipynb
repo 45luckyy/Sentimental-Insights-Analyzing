{
  "nbformat": 4,
  "nbformat_minor": 0,
  "metadata": {
    "colab": {
      "provenance": [],
      "include_colab_link": true
    },
    "kernelspec": {
      "name": "python3",
      "display_name": "Python 3"
    },
    "language_info": {
      "name": "python"
    }
  },
  "cells": [
    {
      "cell_type": "markdown",
      "metadata": {
        "id": "view-in-github",
        "colab_type": "text"
      },
      "source": [
        "<a href=\"https://colab.research.google.com/github/45luckyy/Sentimental-Insights-Analyzing/blob/main/dataset.ipynb\" target=\"_parent\"><img src=\"https://colab.research.google.com/assets/colab-badge.svg\" alt=\"Open In Colab\"/></a>"
      ]
    },
    {
      "source": [
        "import pandas as pd\n",
        "import re\n",
        "import spacy\n",
        "from nltk.corpus import stopwords\n",
        "import nltk\n",
        "\n",
        "nltk.download('stopwords')\n",
        "\n",
        "nlp = spacy.load(\"en_core_web_sm\", disable=[\"parser\", \"ner\"])\n",
        "\n",
        "stop_words = set(stopwords.words('english'))\n",
        "\n",
        "data = pd.read_csv(\"Reddit_Data.csv\")\n",
        "\n",
        "data = data.head(10000)\n",
        "\n",
        "def preprocess_text_fast(text):\n",
        "    # Convert input to string to handle non-string types, like NaN\n",
        "    text = str(text)\n",
        "    # Remove URLs and special characters\n",
        "    text = re.sub(r\"http\\S+|[^a-zA-Z\\s]\", \"\", text)\n",
        "    text = text.lower()  # Convert to lowercase\n",
        "    doc = nlp(text)\n",
        "    tokens = [token.text for token in doc if token.text not in stop_words]\n",
        "    return \" \".join(tokens)\n",
        "\n",
        "# Apply preprocessing\n",
        "data['clean_comment'] = data['clean_comment'].map(preprocess_text_fast)\n",
        "\n",
        "data.to_csv(\"Preprocessed_Reddit_Data2.csv\", index=False)\n",
        "\n",
        "print(\"Preprocessing completed. File saved as Preprocessed_Reddit_Data2.csv\")"
      ],
      "cell_type": "code",
      "metadata": {
        "colab": {
          "base_uri": "https://localhost:8080/"
        },
        "id": "G8rk6Rk1IqWN",
        "outputId": "ced8c76b-6178-46a1-f571-1ba375b51bc3"
      },
      "execution_count": 2,
      "outputs": [
        {
          "output_type": "stream",
          "name": "stderr",
          "text": [
            "[nltk_data] Downloading package stopwords to /root/nltk_data...\n",
            "[nltk_data]   Package stopwords is already up-to-date!\n"
          ]
        },
        {
          "output_type": "stream",
          "name": "stdout",
          "text": [
            "Preprocessing completed. File saved as Preprocessed_Reddit_Data2.csv\n"
          ]
        }
      ]
    },
    {
      "cell_type": "code",
      "source": [
        "from google.colab import drive\n",
        "drive.mount('/content/drive')"
      ],
      "metadata": {
        "colab": {
          "base_uri": "https://localhost:8080/"
        },
        "id": "SbZ1CppdKkFL",
        "outputId": "2c8effc1-99fa-49c7-f8c6-af5e98655e2a"
      },
      "execution_count": null,
      "outputs": [
        {
          "output_type": "stream",
          "name": "stdout",
          "text": [
            "Mounted at /content/drive\n"
          ]
        }
      ]
    }
  ]
}